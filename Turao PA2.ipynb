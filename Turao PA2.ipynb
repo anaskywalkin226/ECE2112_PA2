{
 "cells": [
  {
   "cell_type": "markdown",
   "id": "c6c97f68-866b-4cf0-832d-886e23fc1e69",
   "metadata": {},
   "source": [
    "# Programming Assignment 2"
   ]
  },
  {
   "cell_type": "markdown",
   "id": "863c4bc7-a6c4-425c-836d-12d4b336b2c7",
   "metadata": {},
   "source": [
    "## Problem 1: Normalization Problem"
   ]
  },
  {
   "cell_type": "code",
   "execution_count": 65,
   "id": "93f76401-fd6d-45d1-a465-bffc56b5eae7",
   "metadata": {
    "jupyter": {
     "source_hidden": true
    }
   },
   "outputs": [],
   "source": [
    "import numpy as np"
   ]
  },
  {
   "cell_type": "code",
   "execution_count": 66,
   "id": "39474649-4ce4-4da8-8e5d-46fbbd086b46",
   "metadata": {},
   "outputs": [],
   "source": [
    "x = np.random.random((5,5))"
   ]
  },
  {
   "cell_type": "code",
   "execution_count": 67,
   "id": "80d92335-c536-40f6-91fa-522d6a1be526",
   "metadata": {},
   "outputs": [],
   "source": [
    "xnormalization = (x - x.mean())/x.std()"
   ]
  },
  {
   "cell_type": "code",
   "execution_count": 68,
   "id": "f0d5cc3d-6069-4e3d-9135-f58b590c03fe",
   "metadata": {},
   "outputs": [],
   "source": [
    "np.save(\"X_normalized.npy\", xnormalization)"
   ]
  },
  {
   "cell_type": "code",
   "execution_count": 69,
   "id": "0865eb2a-6d1b-45ef-8361-2845a65574bd",
   "metadata": {},
   "outputs": [
    {
     "data": {
      "text/plain": [
       "array([[0.94375257, 0.45416557, 0.45599101, 0.71587365, 0.63083988],\n",
       "       [0.62288047, 0.696087  , 0.52827141, 0.0893541 , 0.08866695],\n",
       "       [0.04533112, 0.98611285, 0.34029355, 0.95448401, 0.20177033],\n",
       "       [0.40276833, 0.2286073 , 0.73666572, 0.03744824, 0.98719605],\n",
       "       [0.15628011, 0.78244284, 0.69315889, 0.8632455 , 0.80174457]])"
      ]
     },
     "execution_count": 69,
     "metadata": {},
     "output_type": "execute_result"
    }
   ],
   "source": [
    "x"
   ]
  },
  {
   "cell_type": "code",
   "execution_count": 70,
   "id": "78d24f74-2e21-478d-8ad6-2490e2305277",
   "metadata": {},
   "outputs": [
    {
     "data": {
      "text/plain": [
       "array([[ 1.30124133, -0.26783957, -0.26198923,  0.57091054,  0.2983852 ],\n",
       "       [ 0.27287602,  0.50749617, -0.03033724, -1.43702648, -1.43922873],\n",
       "       [-1.57811606,  1.43700209, -0.63278884,  1.3356346 , -1.0767429 ],\n",
       "       [-0.43256295, -0.9907329 ,  0.63754718, -1.60337995,  1.44047366],\n",
       "       [-1.22253484,  0.78425859,  0.49811182,  1.04322363,  0.84611885]])"
      ]
     },
     "execution_count": 70,
     "metadata": {},
     "output_type": "execute_result"
    }
   ],
   "source": [
    "n = np.load(\"X_normalized.npy\")\n",
    "n"
   ]
  },
  {
   "cell_type": "code",
   "execution_count": null,
   "id": "4837b82a-c3a5-4aa6-8899-304689929606",
   "metadata": {},
   "outputs": [],
   "source": []
  },
  {
   "cell_type": "markdown",
   "id": "437dcae0-b3df-44c1-abca-43215e1ee619",
   "metadata": {},
   "source": [
    "## Problem 2: Divisible by 3 Problem"
   ]
  },
  {
   "cell_type": "code",
   "execution_count": 71,
   "id": "6528f1d0-2771-4b8f-b7bf-d228b745a41a",
   "metadata": {},
   "outputs": [],
   "source": [
    "import numpy as np"
   ]
  },
  {
   "cell_type": "code",
   "execution_count": 72,
   "id": "00cc1002-b4cd-450f-bc57-9a99a804177d",
   "metadata": {},
   "outputs": [],
   "source": [
    "a = np.arange(1, 101)"
   ]
  },
  {
   "cell_type": "code",
   "execution_count": 73,
   "id": "7024c16e-e69d-48a6-9c5d-ff1a08073347",
   "metadata": {},
   "outputs": [],
   "source": [
    "squarenumbers = a ** 2"
   ]
  },
  {
   "cell_type": "code",
   "execution_count": 74,
   "id": "f8b6fa53-79f3-4c59-99ac-7c798d67ce96",
   "metadata": {},
   "outputs": [
    {
     "data": {
      "text/plain": [
       "100"
      ]
     },
     "execution_count": 74,
     "metadata": {},
     "output_type": "execute_result"
    }
   ],
   "source": [
    "squarenumbers.size"
   ]
  },
  {
   "cell_type": "code",
   "execution_count": 75,
   "id": "7919b25a-dc43-49b0-ac4a-4f0e872a60ea",
   "metadata": {},
   "outputs": [],
   "source": [
    "A = squarenumbers.reshape(10, 10)"
   ]
  },
  {
   "cell_type": "code",
   "execution_count": 76,
   "id": "77cc4142-2049-4ddb-840f-d2501db00448",
   "metadata": {},
   "outputs": [
    {
     "data": {
      "text/plain": [
       "array([[    1,     4,     9,    16,    25,    36,    49,    64,    81,\n",
       "          100],\n",
       "       [  121,   144,   169,   196,   225,   256,   289,   324,   361,\n",
       "          400],\n",
       "       [  441,   484,   529,   576,   625,   676,   729,   784,   841,\n",
       "          900],\n",
       "       [  961,  1024,  1089,  1156,  1225,  1296,  1369,  1444,  1521,\n",
       "         1600],\n",
       "       [ 1681,  1764,  1849,  1936,  2025,  2116,  2209,  2304,  2401,\n",
       "         2500],\n",
       "       [ 2601,  2704,  2809,  2916,  3025,  3136,  3249,  3364,  3481,\n",
       "         3600],\n",
       "       [ 3721,  3844,  3969,  4096,  4225,  4356,  4489,  4624,  4761,\n",
       "         4900],\n",
       "       [ 5041,  5184,  5329,  5476,  5625,  5776,  5929,  6084,  6241,\n",
       "         6400],\n",
       "       [ 6561,  6724,  6889,  7056,  7225,  7396,  7569,  7744,  7921,\n",
       "         8100],\n",
       "       [ 8281,  8464,  8649,  8836,  9025,  9216,  9409,  9604,  9801,\n",
       "        10000]])"
      ]
     },
     "execution_count": 76,
     "metadata": {},
     "output_type": "execute_result"
    }
   ],
   "source": [
    "A #checking final array if process was done right"
   ]
  },
  {
   "cell_type": "code",
   "execution_count": 77,
   "id": "b2a1ee08-8ec8-4bd3-951c-27729ba3a5f7",
   "metadata": {},
   "outputs": [],
   "source": [
    "numbersdivby3 = A[A % 3 == 0]"
   ]
  },
  {
   "cell_type": "code",
   "execution_count": 78,
   "id": "cfabf257-18f0-4d8b-8581-181744abfe2e",
   "metadata": {},
   "outputs": [
    {
     "data": {
      "text/plain": [
       "array([   9,   36,   81,  144,  225,  324,  441,  576,  729,  900, 1089,\n",
       "       1296, 1521, 1764, 2025, 2304, 2601, 2916, 3249, 3600, 3969, 4356,\n",
       "       4761, 5184, 5625, 6084, 6561, 7056, 7569, 8100, 8649, 9216, 9801])"
      ]
     },
     "execution_count": 78,
     "metadata": {},
     "output_type": "execute_result"
    }
   ],
   "source": [
    "numbersdivby3"
   ]
  },
  {
   "cell_type": "code",
   "execution_count": 79,
   "id": "40e3f91e-89b6-4812-9307-6f4cf359aed3",
   "metadata": {},
   "outputs": [],
   "source": [
    "np.save(\"div_by_3.npy\", numbersdivby3)"
   ]
  },
  {
   "cell_type": "code",
   "execution_count": 82,
   "id": "6118ae0d-0f10-4d4b-b1ac-3937eaa20930",
   "metadata": {},
   "outputs": [],
   "source": [
    "loaded = np.load(\"div_by_3.npy\") #checking if saved"
   ]
  },
  {
   "cell_type": "code",
   "execution_count": 83,
   "id": "de325792-f3f7-4990-b604-4a297c20b684",
   "metadata": {},
   "outputs": [
    {
     "data": {
      "text/plain": [
       "array([   9,   36,   81,  144,  225,  324,  441,  576,  729,  900, 1089,\n",
       "       1296, 1521, 1764, 2025, 2304, 2601, 2916, 3249, 3600, 3969, 4356,\n",
       "       4761, 5184, 5625, 6084, 6561, 7056, 7569, 8100, 8649, 9216, 9801])"
      ]
     },
     "execution_count": 83,
     "metadata": {},
     "output_type": "execute_result"
    }
   ],
   "source": [
    "loaded"
   ]
  },
  {
   "cell_type": "markdown",
   "id": "5ed9f764-84e4-40a4-a1d7-6997b48b070d",
   "metadata": {},
   "source": [
    "# ---------------------------------------END---------------------------------------------"
   ]
  }
 ],
 "metadata": {
  "kernelspec": {
   "display_name": "Python [conda env:base] *",
   "language": "python",
   "name": "conda-base-py"
  },
  "language_info": {
   "codemirror_mode": {
    "name": "ipython",
    "version": 3
   },
   "file_extension": ".py",
   "mimetype": "text/x-python",
   "name": "python",
   "nbconvert_exporter": "python",
   "pygments_lexer": "ipython3",
   "version": "3.13.5"
  }
 },
 "nbformat": 4,
 "nbformat_minor": 5
}
